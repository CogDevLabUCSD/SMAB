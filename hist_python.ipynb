{
 "cells": [
  {
   "cell_type": "code",
   "execution_count": 60,
   "metadata": {},
   "outputs": [],
   "source": [
    "import numpy as np\n",
    "import matplotlib.pyplot as plt\n",
    "%matplotlib inline  \n",
    "import random\n",
    "import pandas as pd"
   ]
  },
  {
   "cell_type": "code",
   "execution_count": 91,
   "metadata": {},
   "outputs": [],
   "source": [
    "##Simulate a decision-making optimization strategy with three arms: 30%, 60%, and 90%.\n",
    "\n",
    "#clear\n",
    "ab = ([5,10], [5,10], [5,10]) #prior assumption: 1/3 for each\n",
    "p = [0.3, 0.6, 0.9] #true probability of the arms\n",
    "w_1=0.3 #initial accuracy of execution for the optimal learning rule\n",
    "w_2=1\n",
    "w_3=0.4\n",
    "N = 3 #number of arms"
   ]
  },
  {
   "cell_type": "code",
   "execution_count": 92,
   "metadata": {},
   "outputs": [],
   "source": [
    "# for testing \n",
    "# ab[0][0]\n",
    "# arm1=1\n",
    "# prob = []\n",
    "# ab[arm1][0]/((ab[arm1][0] + ab[arm1][1]))\n",
    "\n",
    "# for i in range(3):\n",
    "# # prob[0]=ab[arm1][0]/((ab[arm1][0] + ab[arm1][1]))\n",
    "#     prob=np.append(prob,ab[arm1][0]/((ab[arm1][0] + ab[arm1][1])))\n",
    "# prob"
   ]
  },
  {
   "cell_type": "code",
   "execution_count": 93,
   "metadata": {},
   "outputs": [],
   "source": [
    "def det_range_w1(rand,decision_list):\n",
    "    # determine which range that rand falls into\n",
    "    counter=0\n",
    "    if rand >=decision_list[0] and rand <decision_list[1]:\n",
    "        counter=0\n",
    "    elif rand >=decision_list[1] and rand <decision_list[2]:\n",
    "        counter=1\n",
    "    elif rand >=decision_list[2] and rand <=decision_list[3]:\n",
    "        counter=2\n",
    "    return counter"
   ]
  },
  {
   "cell_type": "markdown",
   "metadata": {},
   "source": [
    "# when w=0.3 "
   ]
  },
  {
   "cell_type": "code",
   "execution_count": 94,
   "metadata": {},
   "outputs": [],
   "source": [
    "data = np.zeros((4, 100))#create empty matrix\n",
    "\n",
    "for trial in range(100):\n",
    "    post_prob = []\n",
    "    P_D = np.zeros((1,3))\n",
    "    for arm1 in range(3):\n",
    "        post_prob=np.append(post_prob,ab[arm1][0]/((ab[arm1][0] + ab[arm1][1])))\n",
    "\n",
    "        \n",
    "    # calcualte the suboptimal decision rule\n",
    "    Nmax = sum((post_prob == max(post_prob)))\n",
    "    # In case all arms have the same probability\n",
    "    if Nmax == N:\n",
    "        P_D = post_prob\n",
    "    else:\n",
    "        for arm in range(3):\n",
    "            if post_prob[arm] == max(post_prob):\n",
    "                P_D[arm] = w_1/Nmax\n",
    "            else:\n",
    "                P_D[arm] = (1 - w_1)/(N-Nmax)        \n",
    "#     print(\"P_D value: \",P_D)   \n",
    "\n",
    "\n",
    "    # A decision-result(either 0,1, or 2) is made based on the prob of choosing \n",
    "    # each ice hole, based on the suboptimal decision rule\n",
    "    # decisions return in the variable: result\n",
    "    decision_range = np.cumsum([P_D]) # need edit for decision\n",
    "    decision_list=np.append([0],decision_range) #[0.         0.33333333 0.66666667 1.        ]\n",
    "    rand=round(random.uniform(0, 1),1)\n",
    "    result=det_range_w1(rand,decision_list)\n",
    "#     print(result)\n",
    "  \n",
    "    # reward outcome\n",
    "    reward=np.random.multinomial(1,[p[result],1-p[result]])\n",
    "#     print(reward)\n",
    "    \n",
    "    new_1=ab[result][0]+reward[0]\n",
    "    new_2=ab[result][1]+reward[1]\n",
    "    \n",
    "  \n",
    "    # store in data\n",
    "    data[0][trial] = trial\n",
    "    data[1][trial] = result * 30\n",
    "    data[2][trial] = reward[0]\n",
    "    data[3][trial] = sum(data[2,1:trial]) # didn't change, not sure what that is\n",
    "    \n",
    "#     w = w + (0.4/100)"
   ]
  },
  {
   "cell_type": "markdown",
   "metadata": {},
   "source": [
    "# when w=1"
   ]
  },
  {
   "cell_type": "code",
   "execution_count": 95,
   "metadata": {},
   "outputs": [],
   "source": [
    "data2 = np.zeros((4, 100))#create empty matrix\n",
    "\n",
    "for trial2 in range(100):\n",
    "    post_prob = []\n",
    "    P_D = np.zeros((1,3))\n",
    "    for arm1 in range(3):\n",
    "        post_prob=np.append(post_prob,ab[arm1][0]/((ab[arm1][0] + ab[arm1][1])))\n",
    "\n",
    "        \n",
    "    # calcualte the suboptimal decision rule\n",
    "    Nmax = sum((post_prob == max(post_prob)))\n",
    "    # In case all arms have the same probability\n",
    "    if Nmax == N:\n",
    "        P_D = post_prob\n",
    "    else:\n",
    "        for arm in range(3):\n",
    "            if post_prob[arm] == max(post_prob):\n",
    "                P_D[arm] = w_2/Nmax\n",
    "            else:\n",
    "                P_D[arm] = (1 - w_2)/(N-Nmax)        \n",
    "#     print(\"P_D value: \",P_D)   \n",
    "\n",
    "\n",
    "    # A decision-result(either 0,1, or 2) is made based on the prob of choosing \n",
    "    # each ice hole, based on the suboptimal decision rule\n",
    "    # decisions return in the variable: result\n",
    "    decision_range = np.cumsum([P_D]) # need edit for decision\n",
    "    decision_list=np.append([0],decision_range) #[0.         0.33333333 0.66666667 1.        ]\n",
    "#     print(decision_list)\n",
    "    rand=round(random.uniform(0, 1),1)#randomnize a float betw 0-1\n",
    "    result=det_range_w1(rand,decision_list)\n",
    "#     print(result)\n",
    "  \n",
    "    # reward outcome\n",
    "    reward=np.random.multinomial(1,[p[result],1-p[result]])\n",
    "#     print(reward)\n",
    "    \n",
    "    new_1=ab[result][0]+reward[0]\n",
    "    new_2=ab[result][1]+reward[1]\n",
    "    \n",
    "    data2[0][trial2] = trial2\n",
    "    data2[1][trial2] = result * 30\n",
    "    data2[2][trial2] = reward[0]\n",
    "    data2[3][trial2] = sum(data2[2,1:trial2]) # didn't change, not sure what that is\n"
   ]
  },
  {
   "cell_type": "markdown",
   "metadata": {},
   "source": [
    "# when w=0.4"
   ]
  },
  {
   "cell_type": "code",
   "execution_count": 96,
   "metadata": {},
   "outputs": [],
   "source": [
    "data3 = np.zeros((4, 100))#create empty matrix\n",
    "\n",
    "for trial3 in range(100):\n",
    "    post_prob = []\n",
    "    P_D = np.zeros((1,3))\n",
    "    for arm1 in range(3):\n",
    "        post_prob=np.append(post_prob,ab[arm1][0]/((ab[arm1][0] + ab[arm1][1])))\n",
    "\n",
    "        \n",
    "    # calcualte the suboptimal decision rule\n",
    "    Nmax = sum((post_prob == max(post_prob)))\n",
    "    # In case all arms have the same probability\n",
    "    if Nmax == N:\n",
    "        P_D = post_prob\n",
    "    else:\n",
    "        for arm in range(3):\n",
    "            if post_prob[arm] == max(post_prob):\n",
    "                P_D[arm] = w_3/Nmax\n",
    "            else:\n",
    "                P_D[arm] = (1 - w_3)/(N-Nmax)        \n",
    "#     print(\"P_D value: \",P_D)   \n",
    "\n",
    "\n",
    "    # A decision-result(either 0,1, or 2) is made based on the prob of choosing \n",
    "    # each ice hole, based on the suboptimal decision rule\n",
    "    # decisions return in the variable: result\n",
    "    decision_range = np.cumsum([P_D]) # need edit for decision\n",
    "    decision_list=np.append([0],decision_range) #[0.         0.33333333 0.66666667 1.        ]\n",
    "#     print(decision_list)\n",
    "    rand=round(random.uniform(0, 1),1)#randomnize a float betw 0-1\n",
    "    result=det_range_w1(rand,decision_list)\n",
    "#     print(result)\n",
    "  \n",
    "    # reward outcome\n",
    "    reward=np.random.multinomial(1,[p[result],1-p[result]])\n",
    "#     print(reward)\n",
    "    \n",
    "    new_1=ab[result][0]+reward[0]\n",
    "    new_2=ab[result][1]+reward[1]\n",
    "    \n",
    "    data3[0][trial3] = trial3\n",
    "    data3[1][trial3] = result * 30\n",
    "    data3[2][trial3] = reward[0]\n",
    "    data3[3][trial3] = sum(data3[2,1:trial3]) # didn't change, not sure what that is\n"
   ]
  },
  {
   "cell_type": "code",
   "execution_count": 84,
   "metadata": {},
   "outputs": [],
   "source": [
    "#read files as df\n",
    "file_lst=[\"s01_data\",\"s02_data\",\"s03_data\"]\n",
    "df_lst=[] #create a list of dfs\n",
    "for file in file_lst:\n",
    "    df=pd.read_csv(str(file),sep='\\t',header=None)\n",
    "    \n",
    "    if (file=='s02_data') or (file=='s03_data'):\n",
    "        df=df.iloc[[0,2,3,4],:]\n",
    "        df_lst.append(df)\n",
    "    else:\n",
    "        df_lst.append(df)"
   ]
  },
  {
   "cell_type": "markdown",
   "metadata": {},
   "source": [
    "# Plotting"
   ]
  },
  {
   "cell_type": "code",
   "execution_count": 85,
   "metadata": {},
   "outputs": [],
   "source": [
    "# get x_values, y_values from one df,or data/data2/data3\n",
    "def y_values(df):\n",
    "#     x=df[0:1].values\n",
    "#     x_val=[val for sublist in x for val in sublist]\n",
    "#     print(x_val)\n",
    "    if df.shape==(5,100):\n",
    "        y=df[4:5].values\n",
    "    else:\n",
    "#         print(df.iloc[-1].values)\n",
    "        y=df.iloc[-1].values\n",
    "    \n",
    "    y_val=[val for val in y]\n",
    "#     print(y_val)\n",
    "    return y_val # x_val can be generated later since all are same"
   ]
  },
  {
   "cell_type": "code",
   "execution_count": 86,
   "metadata": {},
   "outputs": [],
   "source": [
    "# make a list of list (with y values)\n",
    "def get_y_values(df_lst):\n",
    "    y_label_lst=[]\n",
    "    for df in df_lst:\n",
    "#         print(\"load_df\",type(df))\n",
    "        y_current=y_values(df)\n",
    "        y_label_lst.append(y_current)\n",
    "    return y_label_lst"
   ]
  },
  {
   "cell_type": "code",
   "execution_count": 87,
   "metadata": {},
   "outputs": [],
   "source": [
    "def convert_to_df(data):\n",
    "    df = pd.DataFrame(data)\n",
    "    return df"
   ]
  },
  {
   "cell_type": "code",
   "execution_count": 98,
   "metadata": {},
   "outputs": [],
   "source": [
    "def plot_graph(orig_y_list,weight_y_list,label_w):\n",
    "    fig, ax = plt.subplots()\n",
    "    ax.set_ylim([0,80])\n",
    "    x_val=np.arange(1,101,1)\n",
    "    label=0\n",
    "    counter=0\n",
    "    for y_val in orig_y_list:\n",
    "        ax.plot(x_val, y_val,label='subject '+str(label))\n",
    "        label+=1\n",
    "    for y_val in weight_y_list:\n",
    "#         print(y_val)\n",
    "        ax.plot(x_val, y_val,label='eG,w= '+label_w[counter])\n",
    "        counter+=1\n",
    "    plt.xlabel('Trial')\n",
    "    plt.ylabel('reward score')\n",
    "    leg = ax.legend()\n",
    "    fig.show()"
   ]
  },
  {
   "cell_type": "code",
   "execution_count": 99,
   "metadata": {},
   "outputs": [
    {
     "data": {
      "image/png": "[encoded data removed]",
      "text/plain": [
       "<Figure size 432x288 with 1 Axes>"
      ]
     },
     "metadata": {
      "needs_background": "light"
     },
     "output_type": "display_data"
    }
   ],
   "source": [
    "label_w=['0.3-0.7','1','0.5']\n",
    "plot_list=[df_lst[0],df_lst[1],df_lst[2]]\n",
    "#read data df \n",
    "weighted_list=[data,data2,data3]\n",
    "data_list=[] #create a list of dfs\n",
    "for weighted_data in weighted_list:\n",
    "    weighted_df=pd.DataFrame(weighted_data)\n",
    "    data_list.append(weighted_df)\n",
    "\n",
    "data=convert_to_df(data)\n",
    "orig_y_list=get_y_values(plot_list) # y values from the original df\n",
    "weight_y_list=get_y_values(data_list) # y values from the weighted df\n",
    "plot_graph(orig_y_list,weight_y_list,label_w)"
   ]
  },
  {
   "cell_type": "code",
   "execution_count": null,
   "metadata": {},
   "outputs": [],
   "source": []
  }
 ],
 "metadata": {
  "kernelspec": {
   "display_name": "Python 3",
   "language": "python",
   "name": "python3"
  },
  "language_info": {
   "codemirror_mode": {
    "name": "ipython",
    "version": 3
   },
   "file_extension": ".py",
   "mimetype": "text/x-python",
   "name": "python",
   "nbconvert_exporter": "python",
   "pygments_lexer": "ipython3",
   "version": "3.7.3"
  }
 },
 "nbformat": 4,
 "nbformat_minor": 2
}
