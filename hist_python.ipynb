{
 "cells": [
  {
   "cell_type": "code",
   "execution_count": 9,
   "metadata": {},
   "outputs": [],
   "source": [
    "import numpy as np\n",
    "import matplotlib.pyplot as plt\n",
    "%matplotlib inline  \n",
    "import random\n",
    "import pandas as pd"
   ]
  },
  {
   "cell_type": "code",
   "execution_count": 10,
   "metadata": {},
   "outputs": [],
   "source": [
    "##Simulate a decision-making optimization strategy with three arms: 30%, 60%, and 90%.\n",
    "\n",
    "#clear\n",
    "ab = ([5,10], [5,10], [5,10]) #prior assumption: 1/3 for each\n",
    "p = [0.3, 0.6, 0.9] #true probability of the arms\n",
    "w_1=0.3 #initial accuracy of execution for the optimal learning rule\n",
    "w_2=1\n",
    "w_3=0.4\n",
    "N = 3 #number of arms"
   ]
  },
  {
   "cell_type": "code",
   "execution_count": 11,
   "metadata": {},
   "outputs": [],
   "source": [
    "# for testing \n",
    "# ab[0][0]\n",
    "# arm1=1\n",
    "# prob = []\n",
    "# ab[arm1][0]/((ab[arm1][0] + ab[arm1][1]))\n",
    "\n",
    "# for i in range(3):\n",
    "# # prob[0]=ab[arm1][0]/((ab[arm1][0] + ab[arm1][1]))\n",
    "#     prob=np.append(prob,ab[arm1][0]/((ab[arm1][0] + ab[arm1][1])))\n",
    "# prob"
   ]
  },
  {
   "cell_type": "code",
   "execution_count": 18,
   "metadata": {},
   "outputs": [],
   "source": [
    "def det_range_w(rand,decision_list):\n",
    "    # determine which range that rand falls into\n",
    "    counter=0\n",
    "    if rand >=decision_list[0] and rand <decision_list[1]:\n",
    "        counter=0\n",
    "    elif rand >=decision_list[1] and rand <decision_list[2]:\n",
    "        counter=1\n",
    "    elif rand >=decision_list[2] and rand <=decision_list[3]:\n",
    "        counter=2\n",
    "    return counter"
   ]
  },
  {
   "cell_type": "code",
   "execution_count": 19,
   "metadata": {},
   "outputs": [],
   "source": [
    "def compute_w(weighted):\n",
    "    data = np.zeros((4, 100))#create empty matrix\n",
    "\n",
    "    for trial in range(100):\n",
    "        post_prob = []\n",
    "        P_D = np.zeros((1,3))\n",
    "        for arm1 in range(3):\n",
    "            post_prob=np.append(post_prob,ab[arm1][0]/((ab[arm1][0] + ab[arm1][1])))\n",
    "\n",
    "\n",
    "        # calcualte the suboptimal decision rule\n",
    "        Nmax = sum((post_prob == max(post_prob)))\n",
    "        # In case all arms have the same probability\n",
    "        if Nmax == N:\n",
    "            P_D = post_prob\n",
    "        else:\n",
    "            for arm in range(3):\n",
    "                if post_prob[arm] == max(post_prob):\n",
    "                    P_D[arm] = weighted/Nmax\n",
    "                else:\n",
    "                    P_D[arm] = (1 - weighted)/(N-Nmax)        \n",
    "    #     print(\"P_D value: \",P_D)   \n",
    "\n",
    "\n",
    "        # A decision-result(either 0,1, or 2) is made based on the prob of choosing \n",
    "        # each ice hole, based on the suboptimal decision rule\n",
    "        # decisions return in the variable: result\n",
    "        decision_range = np.cumsum([P_D]) \n",
    "        decision_list=np.append([0],decision_range) #[0.         0.33333333 0.66666667 1.        ]\n",
    "        rand=round(random.uniform(0, 1),1)\n",
    "        result=det_range_w(rand,decision_list)\n",
    "    #     print(result)\n",
    "\n",
    "        # reward outcome\n",
    "        reward=np.random.multinomial(1,[p[result],1-p[result]])\n",
    "    #     print(reward)\n",
    "\n",
    "        new_1=ab[result][0]+reward[0]\n",
    "        new_2=ab[result][1]+reward[1]\n",
    "\n",
    "         # store in data\n",
    "        data[0][trial] = trial\n",
    "        data[1][trial] = result * 30\n",
    "        data[2][trial] = reward[0]\n",
    "        data[3][trial] = sum(data[2,1:trial]) \n",
    "    return data"
   ]
  },
  {
   "cell_type": "code",
   "execution_count": 71,
   "metadata": {},
   "outputs": [],
   "source": [
    "def compute_w_avg(num_iterations,w_value):\n",
    "    w_df_lst=[]\n",
    "    for i in range(num_iterations):\n",
    "        df=compute_w(w_value)\n",
    "        w_df_lst.append(df[3:4])\n",
    "        value=[val for sublist in w_df_lst for val in sublist]\n",
    "        w_df=convert_to_df(value)\n",
    "        avg_df=convert_to_df(w_df.mean(axis = 0)).T #with shape of (1,100)\n",
    "    return avg_df\n",
    "    "
   ]
  },
  {
   "cell_type": "code",
   "execution_count": 108,
   "metadata": {},
   "outputs": [],
   "source": [
    "def three_w_avg(num_iterations,w1,w2,w3):\n",
    "    w_lst=[]\n",
    "    fst_w=compute_w_avg(num_iterations,w1)\n",
    "    sec_w=compute_w_avg(num_iterations,w2)\n",
    "    thr_w=compute_w_avg(num_iterations,w3)\n",
    "    w_df=pd.concat([fst_w,sec_w,thr_w],axis=0)\n",
    "    return w_df"
   ]
  },
  {
   "cell_type": "code",
   "execution_count": 109,
   "metadata": {},
   "outputs": [
    {
     "data": {
      "text/html": [
       "<div>\n",
       "<style scoped>\n",
       "    .dataframe tbody tr th:only-of-type {\n",
       "        vertical-align: middle;\n",
       "    }\n",
       "\n",
       "    .dataframe tbody tr th {\n",
       "        vertical-align: top;\n",
       "    }\n",
       "\n",
       "    .dataframe thead th {\n",
       "        text-align: right;\n",
       "    }\n",
       "</style>\n",
       "<table border=\"1\" class=\"dataframe\">\n",
       "  <thead>\n",
       "    <tr style=\"text-align: right;\">\n",
       "      <th></th>\n",
       "      <th>0</th>\n",
       "      <th>1</th>\n",
       "      <th>2</th>\n",
       "      <th>3</th>\n",
       "      <th>4</th>\n",
       "      <th>5</th>\n",
       "      <th>6</th>\n",
       "      <th>7</th>\n",
       "      <th>8</th>\n",
       "      <th>9</th>\n",
       "      <th>...</th>\n",
       "      <th>90</th>\n",
       "      <th>91</th>\n",
       "      <th>92</th>\n",
       "      <th>93</th>\n",
       "      <th>94</th>\n",
       "      <th>95</th>\n",
       "      <th>96</th>\n",
       "      <th>97</th>\n",
       "      <th>98</th>\n",
       "      <th>99</th>\n",
       "    </tr>\n",
       "  </thead>\n",
       "  <tbody>\n",
       "    <tr>\n",
       "      <th>0</th>\n",
       "      <td>0.0</td>\n",
       "      <td>0.0</td>\n",
       "      <td>0.666667</td>\n",
       "      <td>1.666667</td>\n",
       "      <td>2.000000</td>\n",
       "      <td>2.666667</td>\n",
       "      <td>3.000000</td>\n",
       "      <td>3.666667</td>\n",
       "      <td>4.000000</td>\n",
       "      <td>4.666667</td>\n",
       "      <td>...</td>\n",
       "      <td>56.000000</td>\n",
       "      <td>56.666667</td>\n",
       "      <td>57.666667</td>\n",
       "      <td>57.666667</td>\n",
       "      <td>57.666667</td>\n",
       "      <td>58.000000</td>\n",
       "      <td>58.000000</td>\n",
       "      <td>58.333333</td>\n",
       "      <td>59.333333</td>\n",
       "      <td>60.333333</td>\n",
       "    </tr>\n",
       "    <tr>\n",
       "      <th>0</th>\n",
       "      <td>0.0</td>\n",
       "      <td>0.0</td>\n",
       "      <td>1.000000</td>\n",
       "      <td>2.000000</td>\n",
       "      <td>2.333333</td>\n",
       "      <td>3.000000</td>\n",
       "      <td>3.666667</td>\n",
       "      <td>4.666667</td>\n",
       "      <td>5.333333</td>\n",
       "      <td>5.666667</td>\n",
       "      <td>...</td>\n",
       "      <td>53.666667</td>\n",
       "      <td>54.666667</td>\n",
       "      <td>54.666667</td>\n",
       "      <td>55.000000</td>\n",
       "      <td>55.333333</td>\n",
       "      <td>55.666667</td>\n",
       "      <td>56.333333</td>\n",
       "      <td>56.666667</td>\n",
       "      <td>57.333333</td>\n",
       "      <td>58.000000</td>\n",
       "    </tr>\n",
       "    <tr>\n",
       "      <th>0</th>\n",
       "      <td>0.0</td>\n",
       "      <td>0.0</td>\n",
       "      <td>0.666667</td>\n",
       "      <td>1.000000</td>\n",
       "      <td>1.333333</td>\n",
       "      <td>2.333333</td>\n",
       "      <td>3.333333</td>\n",
       "      <td>4.000000</td>\n",
       "      <td>4.666667</td>\n",
       "      <td>5.333333</td>\n",
       "      <td>...</td>\n",
       "      <td>52.333333</td>\n",
       "      <td>52.666667</td>\n",
       "      <td>53.333333</td>\n",
       "      <td>53.666667</td>\n",
       "      <td>54.000000</td>\n",
       "      <td>54.333333</td>\n",
       "      <td>55.000000</td>\n",
       "      <td>55.666667</td>\n",
       "      <td>56.666667</td>\n",
       "      <td>57.333333</td>\n",
       "    </tr>\n",
       "  </tbody>\n",
       "</table>\n",
       "<p>3 rows × 100 columns</p>\n",
       "</div>"
      ],
      "text/plain": [
       "    0    1         2         3         4         5         6         7   \\\n",
       "0  0.0  0.0  0.666667  1.666667  2.000000  2.666667  3.000000  3.666667   \n",
       "0  0.0  0.0  1.000000  2.000000  2.333333  3.000000  3.666667  4.666667   \n",
       "0  0.0  0.0  0.666667  1.000000  1.333333  2.333333  3.333333  4.000000   \n",
       "\n",
       "         8         9   ...         90         91         92         93  \\\n",
       "0  4.000000  4.666667  ...  56.000000  56.666667  57.666667  57.666667   \n",
       "0  5.333333  5.666667  ...  53.666667  54.666667  54.666667  55.000000   \n",
       "0  4.666667  5.333333  ...  52.333333  52.666667  53.333333  53.666667   \n",
       "\n",
       "          94         95         96         97         98         99  \n",
       "0  57.666667  58.000000  58.000000  58.333333  59.333333  60.333333  \n",
       "0  55.333333  55.666667  56.333333  56.666667  57.333333  58.000000  \n",
       "0  54.000000  54.333333  55.000000  55.666667  56.666667  57.333333  \n",
       "\n",
       "[3 rows x 100 columns]"
      ]
     },
     "execution_count": 109,
     "metadata": {},
     "output_type": "execute_result"
    }
   ],
   "source": [
    "#three_w_avg(3,w_1,w_2,w_3)"
   ]
  },
  {
   "cell_type": "code",
   "execution_count": 111,
   "metadata": {},
   "outputs": [],
   "source": [
    "#read files as df\n",
    "file_lst=[\"s01_data\",\"s02_data\",\"s03_data\"]\n",
    "df_lst=[] #create a list of dfs\n",
    "for file in file_lst:\n",
    "    df=pd.read_csv(str(file),sep='\\t',header=None)\n",
    "    \n",
    "    if (file=='s02_data') or (file=='s03_data'):\n",
    "        df=df.iloc[[0,2,3,4],:]\n",
    "        df_lst.append(df)\n",
    "    else:\n",
    "        df_lst.append(df)"
   ]
  },
  {
   "cell_type": "markdown",
   "metadata": {},
   "source": [
    "# Plotting"
   ]
  },
  {
   "cell_type": "code",
   "execution_count": 112,
   "metadata": {},
   "outputs": [],
   "source": [
    "# get x_values, y_values from one df,or data/data2/data3\n",
    "def y_values(df):\n",
    "#     x=df[0:1].values\n",
    "#     x_val=[val for sublist in x for val in sublist]\n",
    "#     print(x_val)\n",
    "    if df.shape==(5,100):\n",
    "        y=df[4:5].values\n",
    "    else:\n",
    "#         print(df.iloc[-1].values)\n",
    "        y=df.iloc[-1].values\n",
    "    \n",
    "    y_val=[val for val in y]\n",
    "#     print(y_val)\n",
    "    return y_val # x_val can be generated later since all are same"
   ]
  },
  {
   "cell_type": "code",
   "execution_count": 113,
   "metadata": {},
   "outputs": [],
   "source": [
    "# make a list of list (with y values)\n",
    "def get_y_values(df_lst):\n",
    "    y_label_lst=[]\n",
    "    for df in df_lst:\n",
    "#         print(\"load_df\",type(df))\n",
    "        y_current=y_values(df)\n",
    "        y_label_lst.append(y_current)\n",
    "    return y_label_lst"
   ]
  },
  {
   "cell_type": "code",
   "execution_count": 114,
   "metadata": {},
   "outputs": [],
   "source": [
    "def convert_to_df(data):\n",
    "    df = pd.DataFrame(data)\n",
    "    return df"
   ]
  },
  {
   "cell_type": "code",
   "execution_count": 115,
   "metadata": {},
   "outputs": [],
   "source": [
    "def plot_graph(orig_y_list,weight_y_list,label_w):\n",
    "    fig, ax = plt.subplots()\n",
    "    ax.set_ylim([0,80])\n",
    "    x_val=np.arange(1,101,1)\n",
    "    label=0\n",
    "    counter=0\n",
    "    for y_val in orig_y_list:\n",
    "        ax.plot(x_val, y_val,label='subject '+str(label))\n",
    "        label+=1\n",
    "    for y_val in weight_y_list:\n",
    "#         print(y_val)\n",
    "        ax.plot(x_val, y_val,label='eG,w= '+label_w[counter])\n",
    "        counter+=1\n",
    "    plt.xlabel('Trial')\n",
    "    plt.ylabel('reward score')\n",
    "    leg = ax.legend()\n",
    "    fig.show()"
   ]
  },
  {
   "cell_type": "code",
   "execution_count": 128,
   "metadata": {},
   "outputs": [
    {
     "data": {
      "image/png": "[encoded data removed]",
      "text/plain": [
       "<Figure size 432x288 with 1 Axes>"
      ]
     },
     "metadata": {
      "needs_background": "light"
     },
     "output_type": "display_data"
    }
   ],
   "source": [
    "label_w=['0.3-0.7','1','0.5']\n",
    "plot_list=[df_lst[0],df_lst[1],df_lst[2]]\n",
    "\n",
    "orig_y_list=get_y_values(plot_list) # y values from the original df\n",
    "\n",
    "#for here, I randomly assign 3 to num of iterations(could add more for calculating avg.)\n",
    "weight_y_list=three_w_avg(3,w_1,w_2,w_3).values.tolist() \n",
    "plot_graph(orig_y_list,weight_y_list,label_w)"
   ]
  },
  {
   "cell_type": "code",
   "execution_count": null,
   "metadata": {},
   "outputs": [],
   "source": []
  }
 ],
 "metadata": {
  "kernelspec": {
   "display_name": "Python 3",
   "language": "python",
   "name": "python3"
  },
  "language_info": {
   "codemirror_mode": {
    "name": "ipython",
    "version": 3
   },
   "file_extension": ".py",
   "mimetype": "text/x-python",
   "name": "python",
   "nbconvert_exporter": "python",
   "pygments_lexer": "ipython3",
   "version": "3.7.3"
  }
 },
 "nbformat": 4,
 "nbformat_minor": 2
}
